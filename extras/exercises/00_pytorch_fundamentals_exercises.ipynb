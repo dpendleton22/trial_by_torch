{
  "cells": [
    {
      "cell_type": "markdown",
      "metadata": {
        "id": "AzDBM_v4iMe7"
      },
      "source": [
        "# 00. PyTorch Fundamentals Exercises\n",
        "\n",
        "### 1. Documentation reading\n",
        "\n",
        "A big part of deep learning (and learning to code in general) is getting familiar with the documentation of a certain framework you're using. We'll be using the PyTorch documentation a lot throughout the rest of this course. So I'd recommend spending 10-minutes reading the following (it's okay if you don't get some things for now, the focus is not yet full understanding, it's awareness):\n",
        "  * The documentation on [`torch.Tensor`](https://pytorch.org/docs/stable/tensors.html#torch-tensor).\n",
        "  * The documentation on [`torch.cuda`](https://pytorch.org/docs/master/notes/cuda.html#cuda-semantics).\n",
        "\n"
      ]
    },
    {
      "cell_type": "code",
      "execution_count": null,
      "metadata": {
        "id": "bGD0oD8Kizak"
      },
      "outputs": [],
      "source": [
        "# No code solution (reading)"
      ]
    },
    {
      "cell_type": "markdown",
      "metadata": {
        "id": "__iXqqz-ioUJ"
      },
      "source": [
        "### 2. Create a random tensor with shape `(7, 7)`.\n"
      ]
    },
    {
      "cell_type": "code",
      "execution_count": 1,
      "metadata": {
        "id": "6pUq9Dc8i2L7"
      },
      "outputs": [],
      "source": [
        "# Import torch\n",
        "import torch\n",
        "\n",
        "# Create random tensor\n",
        "tensor = torch.rand(7, 7)"
      ]
    },
    {
      "cell_type": "code",
      "source": [
        "torch.__version__"
      ],
      "metadata": {
        "id": "yznE61PSWGIm",
        "outputId": "594e1e04-8347-4a40-8a17-e54913b8102f",
        "colab": {
          "base_uri": "https://localhost:8080/",
          "height": 35
        }
      },
      "execution_count": 14,
      "outputs": [
        {
          "output_type": "execute_result",
          "data": {
            "text/plain": [
              "'2.1.0+cu118'"
            ],
            "application/vnd.google.colaboratory.intrinsic+json": {
              "type": "string"
            }
          },
          "metadata": {},
          "execution_count": 14
        }
      ]
    },
    {
      "cell_type": "markdown",
      "metadata": {
        "id": "9-XxvRLfiqkR"
      },
      "source": [
        "### 3. Perform a matrix multiplication on the tensor from 2 with another random tensor with shape `(1, 7)` (hint: you may have to transpose the second tensor)."
      ]
    },
    {
      "cell_type": "code",
      "execution_count": null,
      "metadata": {
        "id": "NcLqR0Sbi_vT",
        "outputId": "f01af32d-3d0a-422f-8436-15d1f4b9739e"
      },
      "outputs": [
        {
          "data": {
            "text/plain": [
              "tensor([[0.6859],\n",
              "        [0.8579],\n",
              "        [0.9151],\n",
              "        [1.3375],\n",
              "        [1.2328],\n",
              "        [1.3734],\n",
              "        [1.6196]])"
            ]
          },
          "execution_count": 8,
          "metadata": {},
          "output_type": "execute_result"
        }
      ],
      "source": [
        "# Create another random tensor\n",
        "small_tensor = torch.rand(1, 7)\n",
        "\n",
        "# Perform matrix multiplication\n",
        "tensor.mm(small_tensor.T)"
      ]
    },
    {
      "cell_type": "markdown",
      "metadata": {
        "id": "eiutdKUFiryU"
      },
      "source": [
        "### 4. Set the random seed to `0` and do 2 & 3 over again.\n",
        "\n",
        "The output should be:\n",
        "```\n",
        "(tensor([[1.8542],\n",
        "         [1.9611],\n",
        "         [2.2884],\n",
        "         [3.0481],\n",
        "         [1.7067],\n",
        "         [2.5290],\n",
        "         [1.7989]]), torch.Size([7, 1]))\n",
        "```"
      ]
    },
    {
      "cell_type": "code",
      "execution_count": null,
      "metadata": {
        "id": "D-lOWI_1jRMm",
        "outputId": "8de99514-53a2-42ba-8831-dc15b77186b3"
      },
      "outputs": [
        {
          "data": {
            "text/plain": [
              "tensor([[1.8542],\n",
              "        [1.9611],\n",
              "        [2.2884],\n",
              "        [3.0481],\n",
              "        [1.7067],\n",
              "        [2.5290],\n",
              "        [1.7989]])"
            ]
          },
          "execution_count": 9,
          "metadata": {},
          "output_type": "execute_result"
        }
      ],
      "source": [
        "# Set manual seed\n",
        "torch.manual_seed(0)\n",
        "\n",
        "# Create two random tensors\n",
        "tensor = torch.rand(7, 7)\n",
        "small_tensor = torch.rand(1, 7)\n",
        "\n",
        "# Matrix multiply tensors\n",
        "tensor.mm(small_tensor.T)"
      ]
    },
    {
      "cell_type": "markdown",
      "metadata": {
        "id": "ezY6ks9Cis37"
      },
      "source": [
        "### 5. Speaking of random seeds, we saw how to set it with `torch.manual_seed()` but is there a GPU equivalent? (hint: you'll need to look into the documentation for `torch.cuda` for this one)\n",
        "  * If there is, set the GPU random seed to `1234`."
      ]
    },
    {
      "cell_type": "code",
      "execution_count": 75,
      "metadata": {
        "id": "_LKWcfSTjp00"
      },
      "outputs": [],
      "source": [
        "# Set random seed on the GPU\n",
        "torch.cuda.manual_seed(1234)"
      ]
    },
    {
      "cell_type": "markdown",
      "metadata": {
        "id": "Ir9qSaj6it4n"
      },
      "source": [
        "\n",
        "### 6. Create two random tensors of shape `(2, 3)` and send them both to the GPU (you'll need access to a GPU for this). Set `torch.manual_seed(1234)` when creating the tensors (this doesn't have to be the GPU random seed). The output should be something like:\n",
        "\n",
        "```\n",
        "Device: cuda\n",
        "(tensor([[0.0290, 0.4019, 0.2598],\n",
        "         [0.3666, 0.0583, 0.7006]], device='cuda:0'),\n",
        " tensor([[0.0518, 0.4681, 0.6738],\n",
        "         [0.3315, 0.7837, 0.5631]], device='cuda:0'))\n",
        "```"
      ]
    },
    {
      "cell_type": "code",
      "execution_count": 79,
      "metadata": {
        "id": "azXExiFZj5nm"
      },
      "outputs": [],
      "source": [
        "# Set random seed\n",
        "torch.manual_seed(1234)\n",
        "\n",
        "# Check for access to GPU\n",
        "torch.cuda.is_available()\n",
        "torch.cuda.device_count()\n",
        "\n",
        "if torch.cuda.is_available():\n",
        "  device = 'cuda'\n",
        "else:\n",
        "  device = 'cpu'\n",
        "# Create two random tensors on GPU\n",
        "tensor1 = torch.rand(2, 3, device=device)\n",
        "torch.manual_seed(1234)\n",
        "tensor2 = torch.rand(2, 3, device=device)"
      ]
    },
    {
      "cell_type": "code",
      "source": [
        "tensor1"
      ],
      "metadata": {
        "id": "iC9uC2JfVwCK",
        "outputId": "5c820d91-1fe7-42cf-84cb-047d6595742b",
        "colab": {
          "base_uri": "https://localhost:8080/"
        }
      },
      "execution_count": 80,
      "outputs": [
        {
          "output_type": "execute_result",
          "data": {
            "text/plain": [
              "tensor([[0.1272, 0.8167, 0.5440],\n",
              "        [0.6601, 0.2721, 0.9737]], device='cuda:0')"
            ]
          },
          "metadata": {},
          "execution_count": 80
        }
      ]
    },
    {
      "cell_type": "code",
      "source": [
        "tensor2"
      ],
      "metadata": {
        "id": "6VEQvsEKVy-T",
        "outputId": "78a841c2-93a4-466c-e7f6-89a8db03497a",
        "colab": {
          "base_uri": "https://localhost:8080/"
        }
      },
      "execution_count": 81,
      "outputs": [
        {
          "output_type": "execute_result",
          "data": {
            "text/plain": [
              "tensor([[0.1272, 0.8167, 0.5440],\n",
              "        [0.6601, 0.2721, 0.9737]], device='cuda:0')"
            ]
          },
          "metadata": {},
          "execution_count": 81
        }
      ]
    },
    {
      "cell_type": "markdown",
      "metadata": {
        "id": "5TlAxeiSiu1y"
      },
      "source": [
        "\n",
        "### 7. Perform a matrix multiplication on the tensors you created in 6 (again, you may have to adjust the shapes of one of the tensors).\n",
        "\n",
        "The output should look like:\n",
        "```\n",
        "(tensor([[0.3647, 0.4709],\n",
        "         [0.5184, 0.5617]], device='cuda:0'), torch.Size([2, 2]))\n",
        "```"
      ]
    },
    {
      "cell_type": "code",
      "execution_count": 82,
      "metadata": {
        "id": "fAeG7ox0lHEO"
      },
      "outputs": [],
      "source": [
        "# Perform matmul on tensor_A and tensor_B\n",
        "tensor_mm = tensor1.mm(tensor2.T)"
      ]
    },
    {
      "cell_type": "code",
      "source": [
        "tensor_mm"
      ],
      "metadata": {
        "id": "g5Q5IdWFYlol",
        "outputId": "71b2c5d8-d506-4e73-bde6-7aedd5b95615",
        "colab": {
          "base_uri": "https://localhost:8080/"
        }
      },
      "execution_count": 83,
      "outputs": [
        {
          "output_type": "execute_result",
          "data": {
            "text/plain": [
              "tensor([[0.9792, 0.8358],\n",
              "        [0.8358, 1.4578]], device='cuda:0')"
            ]
          },
          "metadata": {},
          "execution_count": 83
        }
      ]
    },
    {
      "cell_type": "code",
      "source": [
        "tensor_mm[0]"
      ],
      "metadata": {
        "id": "sOCBGeCnb8Ac",
        "outputId": "61b1be96-82aa-49b9-e828-18faa22fb40e",
        "colab": {
          "base_uri": "https://localhost:8080/"
        }
      },
      "execution_count": 47,
      "outputs": [
        {
          "output_type": "execute_result",
          "data": {
            "text/plain": [
              "tensor([1.1000, 0.7324], device='cuda:0')"
            ]
          },
          "metadata": {},
          "execution_count": 47
        }
      ]
    },
    {
      "cell_type": "markdown",
      "metadata": {
        "id": "G7qfa5CSivwg"
      },
      "source": [
        "### 8. Find the maximum and minimum values of the output of 7."
      ]
    },
    {
      "cell_type": "code",
      "execution_count": 43,
      "metadata": {
        "id": "Fu8_3mZpllOd",
        "outputId": "7df07de0-34c3-45fd-e33d-d9ed1240a294",
        "colab": {
          "base_uri": "https://localhost:8080/"
        }
      },
      "outputs": [
        {
          "output_type": "stream",
          "name": "stdout",
          "text": [
            "Tensor mm max: 1.2478716373443604\n",
            "Tesnor mm min: 0.46387672424316406\n"
          ]
        }
      ],
      "source": [
        "# Find max\n",
        "print (f\"Tensor mm max: {tensor_mm.max()}\")\n",
        "# Find min\n",
        "print (f\"Tesnor mm min: {tensor_mm.min()}\")"
      ]
    },
    {
      "cell_type": "markdown",
      "metadata": {
        "id": "wrTj5FgNiw47"
      },
      "source": [
        "### 9. Find the maximum and minimum index values of the output of 7."
      ]
    },
    {
      "cell_type": "code",
      "execution_count": 72,
      "metadata": {
        "id": "CCEKt4K2lsfQ",
        "outputId": "0315eac2-1c5f-4c06-d13f-6a5c6eab0bb6",
        "colab": {
          "base_uri": "https://localhost:8080/"
        }
      },
      "outputs": [
        {
          "output_type": "stream",
          "name": "stdout",
          "text": [
            "Original tensor: \n",
            " tensor([[1.1000, 0.7324],\n",
            "        [1.2479, 0.4639]], device='cuda:0') \n",
            "\n",
            "Dim 0 argmax: tensor([1, 0], device='cuda:0')\n",
            "Dim 1 argmax: tensor([0, 0], device='cuda:0')\n",
            "Flat argmax: 2\n",
            "Dim 0 argmin: tensor([0, 1], device='cuda:0')\n",
            "Dim 1 argmin: tensor([1, 1], device='cuda:0')\n",
            "Flat argmin: 3\n"
          ]
        }
      ],
      "source": [
        "print (f\"Original tensor: \\n {tensor_mm} \\n\")\n",
        "\n",
        "'''\n",
        "Tesnor dimensions\n",
        "when index within a matrices we can get all the columns by tensor[:, i], where\n",
        "i is the column number to view. We are basically setting the 0dim in the index\n",
        "to return everything\n",
        "\n",
        "to get all the rows we would do tensor[i, :] which would give you all the values\n",
        "in each row\n",
        "\n",
        "Dim 0 = step through each 'column'\n",
        "Dim 1 = step through each 'row'\n",
        "'''\n",
        "\n",
        "# Find arg max\n",
        "'''\n",
        "Arg max will return the max indexc based on the dimension specifed\n",
        "'''\n",
        "print (f\"Dim 0 argmax: {tensor_mm.argmax(dim=0)}\")\n",
        "print (f\"Dim 1 argmax: {tensor_mm.argmax(dim=1)}\")\n",
        "print (f\"Flat argmax: {tensor_mm.argmax()}\")\n",
        "\n",
        "# Find arg min\n",
        "print (f\"Dim 0 argmin: {tensor_mm.argmin(dim=0)}\")\n",
        "print (f\"Dim 1 argmin: {tensor_mm.argmin(dim=1)}\")\n",
        "print (f\"Flat argmin: {tensor_mm.argmin()}\")"
      ]
    },
    {
      "cell_type": "code",
      "source": [
        "tensor_mm[0, :]"
      ],
      "metadata": {
        "id": "mAwZ56b5ZxKN",
        "outputId": "2e3a1ba7-9eb1-44c2-c13a-a29999887de3",
        "colab": {
          "base_uri": "https://localhost:8080/"
        }
      },
      "execution_count": 73,
      "outputs": [
        {
          "output_type": "execute_result",
          "data": {
            "text/plain": [
              "tensor([1.1000, 0.7324], device='cuda:0')"
            ]
          },
          "metadata": {},
          "execution_count": 73
        }
      ]
    },
    {
      "cell_type": "markdown",
      "metadata": {
        "id": "hmeybz4uixy7"
      },
      "source": [
        "\n",
        "### 10. Make a random tensor with shape `(1, 1, 1, 10)` and then create a new tensor with all the `1` dimensions removed to be left with a tensor of shape `(10)`. Set the seed to `7` when you create it and print out the first tensor and it's shape as well as the second tensor and it's shape.\n",
        "\n",
        "The output should look like:\n",
        "\n",
        "```\n",
        "tensor([[[[0.5349, 0.1988, 0.6592, 0.6569, 0.2328, 0.4251, 0.2071, 0.6297,\n",
        "           0.3653, 0.8513]]]]) torch.Size([1, 1, 1, 10])\n",
        "tensor([0.5349, 0.1988, 0.6592, 0.6569, 0.2328, 0.4251, 0.2071, 0.6297, 0.3653,\n",
        "        0.8513]) torch.Size([10])\n",
        "```"
      ]
    },
    {
      "cell_type": "code",
      "execution_count": 74,
      "metadata": {
        "id": "TQ9zbRzVl1jV",
        "outputId": "1834e2e2-b37d-4166-a1fa-2067872ef990",
        "colab": {
          "base_uri": "https://localhost:8080/"
        }
      },
      "outputs": [
        {
          "output_type": "stream",
          "name": "stdout",
          "text": [
            "First tensor: \n",
            "\n",
            "tensor([[[[0.5349, 0.1988, 0.6592, 0.6569, 0.2328, 0.4251, 0.2071, 0.6297,\n",
            "           0.3653, 0.8513]]]])\n",
            "Tensor shape: torch.Size([1, 1, 1, 10])\n",
            "\n",
            "Squeezed tensor: \n",
            "\n",
            "tensor([0.5349, 0.1988, 0.6592, 0.6569, 0.2328, 0.4251, 0.2071, 0.6297, 0.3653,\n",
            "        0.8513])\n",
            "Squeezed Tensor shape: torch.Size([10])\n",
            "\n"
          ]
        }
      ],
      "source": [
        "# Set seed\n",
        "torch.manual_seed(7)\n",
        "\n",
        "# Create random tensor\n",
        "rand_tensor = torch.rand(1, 1, 1, 10)\n",
        "\n",
        "# Remove single dimensions\n",
        "sq_rand_tensor = rand_tensor.squeeze()\n",
        "\n",
        "# Print out tensors and their shapes\n",
        "print (f\"First tensor: \\n\")\n",
        "print (f\"{rand_tensor}\")\n",
        "print (f\"Tensor shape: {rand_tensor.shape}\\n\")\n",
        "\n",
        "print (f\"Squeezed tensor: \\n\")\n",
        "print (f\"{sq_rand_tensor}\")\n",
        "print (f\"Squeezed Tensor shape: {sq_rand_tensor.shape}\\n\")"
      ]
    },
    {
      "cell_type": "code",
      "source": [],
      "metadata": {
        "id": "RkJIDuwShfhl"
      },
      "execution_count": null,
      "outputs": []
    }
  ],
  "metadata": {
    "accelerator": "GPU",
    "colab": {
      "name": "00_pytorch_fundamentals_exercises.ipynb",
      "provenance": [],
      "machine_shape": "hm",
      "gpuType": "V100"
    },
    "kernelspec": {
      "display_name": "Python 3",
      "name": "python3"
    },
    "language_info": {
      "codemirror_mode": {
        "name": "ipython",
        "version": 3
      },
      "file_extension": ".py",
      "mimetype": "text/x-python",
      "name": "python",
      "nbconvert_exporter": "python",
      "pygments_lexer": "ipython3",
      "version": "3.8.5"
    }
  },
  "nbformat": 4,
  "nbformat_minor": 0
}